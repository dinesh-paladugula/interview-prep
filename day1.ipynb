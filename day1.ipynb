{
 "cells": [
  {
   "metadata": {},
   "cell_type": "markdown",
   "source": "January 16th, 2025",
   "id": "15b1cc3ce3788844"
  },
  {
   "metadata": {},
   "cell_type": "markdown",
   "source": [
    "What is a string in Python, and how do you define one?\n",
    "\n",
    "String is a sequential data type in Python. It can be denoted with single('') or double(\"\") quotes."
   ],
   "id": "cf4bee1f202980c5"
  },
  {
   "cell_type": "code",
   "id": "initial_id",
   "metadata": {
    "collapsed": true,
    "ExecuteTime": {
     "end_time": "2025-01-16T17:14:04.254460Z",
     "start_time": "2025-01-16T17:14:04.248656Z"
    }
   },
   "source": [
    "str1 = 'abc'\n",
    "str2 = \"def\"\n",
    "print(str1)\n",
    "print(str2)"
   ],
   "outputs": [
    {
     "name": "stdout",
     "output_type": "stream",
     "text": [
      "abc\n",
      "def\n"
     ]
    }
   ],
   "execution_count": 2
  },
  {
   "metadata": {},
   "cell_type": "markdown",
   "source": [
    "How do you find the length of a string?\n",
    "\n",
    "Length of a string can be found using .len() function"
   ],
   "id": "327766e40f427d99"
  },
  {
   "metadata": {
    "ExecuteTime": {
     "end_time": "2025-01-16T17:15:58.818499Z",
     "start_time": "2025-01-16T17:15:58.813983Z"
    }
   },
   "cell_type": "code",
   "source": [
    "string1 = 'Dinesh'\n",
    "print(\"length of the string is\", len(string1))"
   ],
   "id": "5ce20107984d5560",
   "outputs": [
    {
     "name": "stdout",
     "output_type": "stream",
     "text": [
      "length of the string is 6\n"
     ]
    }
   ],
   "execution_count": 4
  },
  {
   "metadata": {},
   "cell_type": "markdown",
   "source": [
    "How do you replace a substring in a string?\n",
    "\n",
    "We can replace a substring using .replace() function.We need to mention what and where we have to change as shown below. We replace \"World\" with \"Python\"\n"
   ],
   "id": "8ab002613832216e"
  },
  {
   "metadata": {
    "ExecuteTime": {
     "end_time": "2025-01-16T17:19:20.964428Z",
     "start_time": "2025-01-16T17:19:20.959051Z"
    }
   },
   "cell_type": "code",
   "source": [
    "string2 = \"Hello, World!\"\n",
    "new_string = string2.replace(\"World\", \"Python\")\n",
    "print(new_string)"
   ],
   "id": "75d66c34b4badea9",
   "outputs": [
    {
     "name": "stdout",
     "output_type": "stream",
     "text": [
      "Hello, Python!\n"
     ]
    }
   ],
   "execution_count": 6
  },
  {
   "metadata": {},
   "cell_type": "markdown",
   "source": [
    "How can you concatenate two strings?\n",
    "\n",
    "String concatenation can be achieved using '+' operator as shown below."
   ],
   "id": "a34f58d1c8e773db"
  },
  {
   "metadata": {
    "ExecuteTime": {
     "end_time": "2025-01-16T17:21:41.993055Z",
     "start_time": "2025-01-16T17:21:41.989774Z"
    }
   },
   "cell_type": "code",
   "source": "\n",
   "id": "c40278466de9a457",
   "outputs": [],
   "execution_count": 6
  }
 ],
 "metadata": {
  "kernelspec": {
   "display_name": "Python 3",
   "language": "python",
   "name": "python3"
  },
  "language_info": {
   "codemirror_mode": {
    "name": "ipython",
    "version": 2
   },
   "file_extension": ".py",
   "mimetype": "text/x-python",
   "name": "python",
   "nbconvert_exporter": "python",
   "pygments_lexer": "ipython2",
   "version": "2.7.6"
  }
 },
 "nbformat": 4,
 "nbformat_minor": 5
}
