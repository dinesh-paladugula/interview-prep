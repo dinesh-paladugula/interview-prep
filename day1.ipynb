{
 "cells": [
  {
   "metadata": {},
   "cell_type": "markdown",
   "source": "January 16th, 2025",
   "id": "15b1cc3ce3788844"
  },
  {
   "metadata": {},
   "cell_type": "markdown",
   "source": [
    "What is a string in Python, and how do you define one?\n",
    "\n",
    "String is a sequential data type in Python. It can be denoted with single('') or double(\"\") quotes."
   ],
   "id": "cf4bee1f202980c5"
  },
  {
   "cell_type": "code",
   "id": "initial_id",
   "metadata": {
    "collapsed": true,
    "ExecuteTime": {
     "end_time": "2025-01-16T18:00:06.593780Z",
     "start_time": "2025-01-16T18:00:06.586397Z"
    }
   },
   "source": [
    "str1 = 'abc'\n",
    "str2 = \"def\"\n",
    "print(str1)\n",
    "print(str2)"
   ],
   "outputs": [
    {
     "name": "stdout",
     "output_type": "stream",
     "text": [
      "abc\n",
      "def\n"
     ]
    }
   ],
   "execution_count": 3
  },
  {
   "metadata": {},
   "cell_type": "markdown",
   "source": [
    "How do you find the length of a string?\n",
    "\n",
    "Length of a string can be found using .len() function"
   ],
   "id": "327766e40f427d99"
  },
  {
   "metadata": {
    "ExecuteTime": {
     "end_time": "2025-01-16T18:00:06.730743Z",
     "start_time": "2025-01-16T18:00:06.724222Z"
    }
   },
   "cell_type": "code",
   "source": [
    "string1 = 'Dinesh'\n",
    "print(\"length of the string is\", len(string1))"
   ],
   "id": "5ce20107984d5560",
   "outputs": [
    {
     "name": "stdout",
     "output_type": "stream",
     "text": [
      "length of the string is 6\n"
     ]
    }
   ],
   "execution_count": 4
  },
  {
   "metadata": {},
   "cell_type": "markdown",
   "source": [
    "How do you replace a substring in a string?\n",
    "\n",
    "We can replace a substring using .replace() function.We need to mention what and where we have to change as shown below. We replace \"World\" with \"Python\"\n"
   ],
   "id": "8ab002613832216e"
  },
  {
   "metadata": {
    "ExecuteTime": {
     "end_time": "2025-01-16T18:00:06.898297Z",
     "start_time": "2025-01-16T18:00:06.889248Z"
    }
   },
   "cell_type": "code",
   "source": [
    "string2 = \"Hello, World!\"\n",
    "new_string = string2.replace(\"World\", \"Python\")\n",
    "print(new_string)"
   ],
   "id": "75d66c34b4badea9",
   "outputs": [
    {
     "name": "stdout",
     "output_type": "stream",
     "text": [
      "Hello, Python!\n"
     ]
    }
   ],
   "execution_count": 5
  },
  {
   "metadata": {},
   "cell_type": "markdown",
   "source": [
    "How can you concatenate two strings?\n",
    "\n",
    "String concatenation can be achieved using '+' operator as shown below."
   ],
   "id": "a34f58d1c8e773db"
  },
  {
   "metadata": {
    "ExecuteTime": {
     "end_time": "2025-01-16T18:00:07.057611Z",
     "start_time": "2025-01-16T18:00:07.050667Z"
    }
   },
   "cell_type": "code",
   "source": [
    "k1 = \"Hello\"\n",
    "k2 = \"Python\"\n",
    "result = k1 + \" \" + k2\n",
    "print(result)"
   ],
   "id": "b7bc7ffd402f213e",
   "outputs": [
    {
     "name": "stdout",
     "output_type": "stream",
     "text": [
      "Hello Python\n"
     ]
    }
   ],
   "execution_count": 6
  },
  {
   "metadata": {},
   "cell_type": "markdown",
   "source": [
    "What is a list in Python, and how do you define one?\n",
    "\n",
    "List is a sequential data type in python. It can be denoted with [ ](square brackets). We can define different types of data types in a list as shown below."
   ],
   "id": "96a9518986948e43"
  },
  {
   "metadata": {
    "ExecuteTime": {
     "end_time": "2025-01-16T18:04:27.664653Z",
     "start_time": "2025-01-16T18:04:27.658834Z"
    }
   },
   "cell_type": "code",
   "source": [
    "l1 = [1, 2, 3, 4, 5]\n",
    "print(l1)\n",
    "l2 = ['a', 123, [1,2,3]]\n",
    "print(l2)"
   ],
   "id": "abceabc08578f2db",
   "outputs": [
    {
     "name": "stdout",
     "output_type": "stream",
     "text": [
      "[1, 2, 3, 4, 5]\n",
      "['a', 123, [1, 2, 3]]\n"
     ]
    }
   ],
   "execution_count": 9
  },
  {
   "metadata": {},
   "cell_type": "markdown",
   "source": [
    "How can you access elements in a list?\n",
    "\n",
    "The elements of the list can be accessed through indexing.\n",
    "\n",
    "Indexing starts with '0'."
   ],
   "id": "a3ef5682d4c793ce"
  },
  {
   "metadata": {
    "ExecuteTime": {
     "end_time": "2025-01-16T18:06:16.022172Z",
     "start_time": "2025-01-16T18:06:16.016709Z"
    }
   },
   "cell_type": "code",
   "source": [
    "a_list = [1, 2, 3, 4, 5]\n",
    "print(a_list[0])\n",
    "print(a_list[1])"
   ],
   "id": "d8a2175f92156ebb",
   "outputs": [
    {
     "name": "stdout",
     "output_type": "stream",
     "text": [
      "1\n",
      "2\n"
     ]
    }
   ],
   "execution_count": 11
  },
  {
   "metadata": {},
   "cell_type": "code",
   "outputs": [],
   "execution_count": null,
   "source": "",
   "id": "6d163407e8be2295"
  }
 ],
 "metadata": {
  "kernelspec": {
   "display_name": "Python 3",
   "language": "python",
   "name": "python3"
  },
  "language_info": {
   "codemirror_mode": {
    "name": "ipython",
    "version": 2
   },
   "file_extension": ".py",
   "mimetype": "text/x-python",
   "name": "python",
   "nbconvert_exporter": "python",
   "pygments_lexer": "ipython2",
   "version": "2.7.6"
  }
 },
 "nbformat": 4,
 "nbformat_minor": 5
}
