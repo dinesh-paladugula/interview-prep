{
 "cells": [
  {
   "metadata": {},
   "cell_type": "markdown",
   "source": "January 16th, 2025",
   "id": "15b1cc3ce3788844"
  },
  {
   "metadata": {},
   "cell_type": "markdown",
   "source": [
    "What is a string in Python, and how do you define one?\n",
    "\n",
    "String is a sequential data type in Python. It can be denoted with single('') or double(\"\") quotes."
   ],
   "id": "cf4bee1f202980c5"
  },
  {
   "cell_type": "code",
   "id": "initial_id",
   "metadata": {
    "collapsed": true,
    "ExecuteTime": {
     "end_time": "2025-01-16T18:00:06.593780Z",
     "start_time": "2025-01-16T18:00:06.586397Z"
    }
   },
   "source": [
    "str1 = 'abc'\n",
    "str2 = \"def\"\n",
    "print(str1)\n",
    "print(str2)"
   ],
   "outputs": [
    {
     "name": "stdout",
     "output_type": "stream",
     "text": [
      "abc\n",
      "def\n"
     ]
    }
   ],
   "execution_count": 3
  },
  {
   "metadata": {},
   "cell_type": "markdown",
   "source": [
    "How do you find the length of a string?\n",
    "\n",
    "Length of a string can be found using .len() function"
   ],
   "id": "327766e40f427d99"
  },
  {
   "metadata": {
    "ExecuteTime": {
     "end_time": "2025-01-16T18:00:06.730743Z",
     "start_time": "2025-01-16T18:00:06.724222Z"
    }
   },
   "cell_type": "code",
   "source": [
    "string1 = 'Dinesh'\n",
    "print(\"length of the string is\", len(string1))"
   ],
   "id": "5ce20107984d5560",
   "outputs": [
    {
     "name": "stdout",
     "output_type": "stream",
     "text": [
      "length of the string is 6\n"
     ]
    }
   ],
   "execution_count": 4
  },
  {
   "metadata": {},
   "cell_type": "markdown",
   "source": [
    "How do you replace a substring in a string?\n",
    "\n",
    "We can replace a substring using .replace() function.We need to mention what and where we have to change as shown below. We replace \"World\" with \"Python\"\n"
   ],
   "id": "8ab002613832216e"
  },
  {
   "metadata": {
    "ExecuteTime": {
     "end_time": "2025-01-16T18:00:06.898297Z",
     "start_time": "2025-01-16T18:00:06.889248Z"
    }
   },
   "cell_type": "code",
   "source": [
    "string2 = \"Hello, World!\"\n",
    "new_string = string2.replace(\"World\", \"Python\")\n",
    "print(new_string)"
   ],
   "id": "75d66c34b4badea9",
   "outputs": [
    {
     "name": "stdout",
     "output_type": "stream",
     "text": [
      "Hello, Python!\n"
     ]
    }
   ],
   "execution_count": 5
  },
  {
   "metadata": {},
   "cell_type": "markdown",
   "source": [
    "How can you concatenate two strings?\n",
    "\n",
    "String concatenation can be achieved using '+' operator as shown below."
   ],
   "id": "a34f58d1c8e773db"
  },
  {
   "metadata": {
    "ExecuteTime": {
     "end_time": "2025-01-16T18:00:07.057611Z",
     "start_time": "2025-01-16T18:00:07.050667Z"
    }
   },
   "cell_type": "code",
   "source": [
    "k1 = \"Hello\"\n",
    "k2 = \"Python\"\n",
    "result = k1 + \" \" + k2\n",
    "print(result)"
   ],
   "id": "b7bc7ffd402f213e",
   "outputs": [
    {
     "name": "stdout",
     "output_type": "stream",
     "text": [
      "Hello Python\n"
     ]
    }
   ],
   "execution_count": 6
  },
  {
   "metadata": {},
   "cell_type": "markdown",
   "source": [
    "What is a list in Python, and how do you define one?\n",
    "\n",
    "List is a sequential data type in python. It can be denoted with [ ](square brackets). We can define different types of data types in a list as shown below."
   ],
   "id": "96a9518986948e43"
  },
  {
   "metadata": {
    "ExecuteTime": {
     "end_time": "2025-01-16T18:04:27.664653Z",
     "start_time": "2025-01-16T18:04:27.658834Z"
    }
   },
   "cell_type": "code",
   "source": [
    "l1 = [1, 2, 3, 4, 5]\n",
    "print(l1)\n",
    "l2 = ['a', 123, [1,2,3]]\n",
    "print(l2)"
   ],
   "id": "abceabc08578f2db",
   "outputs": [
    {
     "name": "stdout",
     "output_type": "stream",
     "text": [
      "[1, 2, 3, 4, 5]\n",
      "['a', 123, [1, 2, 3]]\n"
     ]
    }
   ],
   "execution_count": 9
  },
  {
   "metadata": {},
   "cell_type": "markdown",
   "source": [
    "How can you access elements in a list?\n",
    "\n",
    "The elements of the list can be accessed through indexing.\n",
    "\n",
    "Indexing starts with '0'."
   ],
   "id": "a3ef5682d4c793ce"
  },
  {
   "metadata": {
    "ExecuteTime": {
     "end_time": "2025-01-16T18:06:16.022172Z",
     "start_time": "2025-01-16T18:06:16.016709Z"
    }
   },
   "cell_type": "code",
   "source": [
    "a_list = [1, 2, 3, 4, 5]\n",
    "print(a_list[0])\n",
    "print(a_list[1])"
   ],
   "id": "d8a2175f92156ebb",
   "outputs": [
    {
     "name": "stdout",
     "output_type": "stream",
     "text": [
      "1\n",
      "2\n"
     ]
    }
   ],
   "execution_count": 11
  },
  {
   "metadata": {},
   "cell_type": "markdown",
   "source": [
    "How do you add an item to the end of a list?\n",
    "\n",
    "You can add an item to the end of a list in Python using the `.append()` method. Below is an example."
   ],
   "id": "263f63a75f2383f4"
  },
  {
   "metadata": {
    "ExecuteTime": {
     "end_time": "2025-01-16T18:09:48.788140Z",
     "start_time": "2025-01-16T18:09:48.782430Z"
    }
   },
   "cell_type": "code",
   "source": [
    "nums = [1, 2, 3, 4, 5]\n",
    "print(nums)"
   ],
   "id": "31fa4a6f8ad5f4b1",
   "outputs": [
    {
     "name": "stdout",
     "output_type": "stream",
     "text": [
      "[1, 2, 3, 4, 5]\n"
     ]
    }
   ],
   "execution_count": 20
  },
  {
   "metadata": {
    "ExecuteTime": {
     "end_time": "2025-01-16T18:09:50.562892Z",
     "start_time": "2025-01-16T18:09:50.557272Z"
    }
   },
   "cell_type": "code",
   "source": [
    "nums.append(6)\n",
    "print(nums)"
   ],
   "id": "89b44ee068ccd616",
   "outputs": [
    {
     "name": "stdout",
     "output_type": "stream",
     "text": [
      "[1, 2, 3, 4, 5, 6]\n"
     ]
    }
   ],
   "execution_count": 21
  },
  {
   "metadata": {},
   "cell_type": "markdown",
   "source": "How do you combine two lists?",
   "id": "90eac8a09b741bc"
  },
  {
   "metadata": {
    "ExecuteTime": {
     "end_time": "2025-01-16T18:11:07.289807Z",
     "start_time": "2025-01-16T18:11:07.283913Z"
    }
   },
   "cell_type": "code",
   "source": [
    "list1 = [1, 2, 3]\n",
    "list2 = [4, 5, 6]\n",
    "combined_list = list1 + list2\n",
    "print(combined_list)\n",
    "# Output: [1, 2, 3, 4, 5, 6]"
   ],
   "id": "59be0f7997c85ea8",
   "outputs": [
    {
     "name": "stdout",
     "output_type": "stream",
     "text": [
      "[1, 2, 3, 4, 5, 6]\n"
     ]
    }
   ],
   "execution_count": 22
  },
  {
   "metadata": {},
   "cell_type": "markdown",
   "source": [
    "Explain the difference between append() and extend() methods.\n",
    "\n",
    "append() - Adds a single element (of any data type) to the end of the list.\n",
    "\n",
    "extend() - Adds all the elements of an iterable (e.g., list, tuple, string) to the end of the list."
   ],
   "id": "bca6a5a8cd0d4785"
  },
  {
   "metadata": {
    "ExecuteTime": {
     "end_time": "2025-01-16T18:15:02.462329Z",
     "start_time": "2025-01-16T18:15:02.455745Z"
    }
   },
   "cell_type": "code",
   "source": [
    "my_list1 = [1, 2, 3]\n",
    "my_list1.append([4, 5])  # Adds the entire list [4, 5] as a single element\n",
    "print(my_list1)\n"
   ],
   "id": "44fba7a9c18adec2",
   "outputs": [
    {
     "name": "stdout",
     "output_type": "stream",
     "text": [
      "[1, 2, 3, [4, 5]]\n"
     ]
    }
   ],
   "execution_count": 26
  },
  {
   "metadata": {
    "ExecuteTime": {
     "end_time": "2025-01-16T18:15:03.302577Z",
     "start_time": "2025-01-16T18:15:03.297464Z"
    }
   },
   "cell_type": "code",
   "source": [
    "my_list2 = [1, 2, 3]\n",
    "my_list2.extend([4, 5])  # Adds the elements of the list [4, 5] individually\n",
    "print(my_list2)\n"
   ],
   "id": "392ff968da2169ef",
   "outputs": [
    {
     "name": "stdout",
     "output_type": "stream",
     "text": [
      "[1, 2, 3, 4, 5]\n"
     ]
    }
   ],
   "execution_count": 27
  },
  {
   "metadata": {},
   "cell_type": "markdown",
   "source": [
    "What is a tuple, and how is it different from a list?\n",
    "\n",
    "Tuples use parentheses &  Lists use square brackets\n",
    "\n",
    "Tuples are immutable, while lists are mutable\n",
    "\n"
   ],
   "id": "91c4df87a68fb2c4"
  },
  {
   "metadata": {
    "ExecuteTime": {
     "end_time": "2025-01-16T18:16:56.519232Z",
     "start_time": "2025-01-16T18:16:56.513931Z"
    }
   },
   "cell_type": "code",
   "source": [
    "tuple1 = (1, 2, 3, 4, 5)\n",
    "list1 = [1, 2, 3, 4, 5]\n",
    "\n",
    "list1[0] = 10\n",
    "print(\"Modified list:\", list1)\n",
    "\n",
    "# Attempting to modify a tuple (will raise an error)\n",
    "try:\n",
    "    tuple1[0] = 10\n",
    "except TypeError as e:\n",
    "    print(\"Error when modifying a tuple:\", e)"
   ],
   "id": "40c355739af22cf3",
   "outputs": [
    {
     "name": "stdout",
     "output_type": "stream",
     "text": [
      "Modified list: [10, 2, 3, 4, 5]\n",
      "Error when modifying a tuple: 'tuple' object does not support item assignment\n"
     ]
    }
   ],
   "execution_count": 29
  },
  {
   "metadata": {},
   "cell_type": "markdown",
   "source": "How do you create a tuple with a single element?",
   "id": "1de941b8c56c0d66"
  },
  {
   "metadata": {
    "ExecuteTime": {
     "end_time": "2025-01-16T18:17:51.472886Z",
     "start_time": "2025-01-16T18:17:51.467576Z"
    }
   },
   "cell_type": "code",
   "source": [
    "single_element_tuple = (42,)\n",
    "print(single_element_tuple)"
   ],
   "id": "ed14039586c9ae11",
   "outputs": [
    {
     "name": "stdout",
     "output_type": "stream",
     "text": [
      "(42,)\n"
     ]
    }
   ],
   "execution_count": 31
  }
 ],
 "metadata": {
  "kernelspec": {
   "display_name": "Python 3",
   "language": "python",
   "name": "python3"
  },
  "language_info": {
   "codemirror_mode": {
    "name": "ipython",
    "version": 2
   },
   "file_extension": ".py",
   "mimetype": "text/x-python",
   "name": "python",
   "nbconvert_exporter": "python",
   "pygments_lexer": "ipython2",
   "version": "2.7.6"
  }
 },
 "nbformat": 4,
 "nbformat_minor": 5
}
