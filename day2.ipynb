{
 "cells": [
  {
   "metadata": {},
   "cell_type": "markdown",
   "source": [
    "17th January 2025\n",
    "\n",
    "Python program for removing duplicates from a list"
   ],
   "id": "1a4a135074318886"
  },
  {
   "metadata": {
    "ExecuteTime": {
     "end_time": "2025-01-17T15:18:27.277584Z",
     "start_time": "2025-01-17T15:18:27.268012Z"
    }
   },
   "cell_type": "code",
   "source": [
    "list1 = [1,1,2,2,3,4,5]\n",
    "set1 = set(list1)\n",
    "print(set1)"
   ],
   "id": "573c95eb6865f431",
   "outputs": [
    {
     "name": "stdout",
     "output_type": "stream",
     "text": [
      "{1, 2, 3, 4, 5}\n"
     ]
    }
   ],
   "execution_count": 1
  },
  {
   "metadata": {},
   "cell_type": "markdown",
   "source": [
    "Write a Python program to print numbers from 1 to 50. For multiples of 3, print \"Fizz,\" for multiples of 5, print \"Buzz,\" and for multiples of both 3 and 5, print\n",
    "\"FizzBuzz.\""
   ],
   "id": "67ad5f69b3b875f0"
  },
  {
   "metadata": {
    "ExecuteTime": {
     "end_time": "2025-01-17T15:24:09.457983Z",
     "start_time": "2025-01-17T15:24:09.451918Z"
    }
   },
   "cell_type": "code",
   "source": [
    "for i in range(1, 51):\n",
    "    if i%3==0 and i%5==0:\n",
    "        print(\"FizzBuzz\")\n",
    "    elif i%3==0:\n",
    "        print(\"Fizz\")\n",
    "    elif i%5==0:\n",
    "        print(\"Buzz\")\n",
    "    else:\n",
    "        print(i)"
   ],
   "id": "a1f2b101e4675bed",
   "outputs": [
    {
     "name": "stdout",
     "output_type": "stream",
     "text": [
      "1\n",
      "2\n",
      "Fizz\n",
      "4\n",
      "Buzz\n",
      "Fizz\n",
      "7\n",
      "8\n",
      "Fizz\n",
      "Buzz\n",
      "11\n",
      "Fizz\n",
      "13\n",
      "14\n",
      "FizzBuzz\n",
      "16\n",
      "17\n",
      "Fizz\n",
      "19\n",
      "Buzz\n",
      "Fizz\n",
      "22\n",
      "23\n",
      "Fizz\n",
      "Buzz\n",
      "26\n",
      "Fizz\n",
      "28\n",
      "29\n",
      "FizzBuzz\n",
      "31\n",
      "32\n",
      "Fizz\n",
      "34\n",
      "Buzz\n",
      "Fizz\n",
      "37\n",
      "38\n",
      "Fizz\n",
      "Buzz\n",
      "41\n",
      "Fizz\n",
      "43\n",
      "44\n",
      "FizzBuzz\n",
      "46\n",
      "47\n",
      "Fizz\n",
      "49\n",
      "Buzz\n"
     ]
    }
   ],
   "execution_count": 4
  },
  {
   "metadata": {},
   "cell_type": "markdown",
   "source": "Write a Python program to find the frequency of each character in a string.",
   "id": "c5b6f626f1002a42"
  },
  {
   "metadata": {
    "ExecuteTime": {
     "end_time": "2025-01-17T15:42:52.728049Z",
     "start_time": "2025-01-17T15:42:52.722986Z"
    }
   },
   "cell_type": "code",
   "source": [
    "str1 = \"geeksforgeeks\"\n",
    "freq = {}\n",
    "for i in str1:\n",
    "    if i in freq:\n",
    "        freq[i] += 1\n",
    "    else:\n",
    "        freq[i] = 1\n",
    "print(freq)"
   ],
   "id": "a685906a2b9736b7",
   "outputs": [
    {
     "name": "stdout",
     "output_type": "stream",
     "text": [
      "{'g': 2, 'e': 4, 'k': 2, 's': 2, 'f': 1, 'o': 1, 'r': 1}\n"
     ]
    }
   ],
   "execution_count": 5
  },
  {
   "metadata": {},
   "cell_type": "markdown",
   "source": "Write a Python program to merge two sorted lists into a single sorted list.",
   "id": "17630844bc575196"
  },
  {
   "metadata": {
    "ExecuteTime": {
     "end_time": "2025-01-17T15:46:24.338367Z",
     "start_time": "2025-01-17T15:46:24.333380Z"
    }
   },
   "cell_type": "code",
   "source": [
    "list1 = [1, 3, 5, 7, 5]\n",
    "list2 = [2, 4, 6, 8, 5]\n",
    "merged_list = sorted(list1 + list2)\n",
    "print(merged_list)"
   ],
   "id": "eb2fcccdff96dfba",
   "outputs": [
    {
     "name": "stdout",
     "output_type": "stream",
     "text": [
      "[1, 2, 3, 4, 5, 5, 5, 6, 7, 8]\n"
     ]
    }
   ],
   "execution_count": 7
  },
  {
   "metadata": {},
   "cell_type": "code",
   "outputs": [],
   "execution_count": null,
   "source": "",
   "id": "8d8b14977127114f"
  }
 ],
 "metadata": {
  "kernelspec": {
   "display_name": "Python 3",
   "language": "python",
   "name": "python3"
  },
  "language_info": {
   "codemirror_mode": {
    "name": "ipython",
    "version": 2
   },
   "file_extension": ".py",
   "mimetype": "text/x-python",
   "name": "python",
   "nbconvert_exporter": "python",
   "pygments_lexer": "ipython2",
   "version": "2.7.6"
  }
 },
 "nbformat": 4,
 "nbformat_minor": 5
}
